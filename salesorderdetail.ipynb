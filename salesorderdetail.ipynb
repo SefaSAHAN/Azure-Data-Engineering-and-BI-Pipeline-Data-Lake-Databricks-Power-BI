{
 "cells": [
  {
   "cell_type": "code",
   "execution_count": 0,
   "metadata": {
    "application/vnd.databricks.v1+cell": {
     "cellMetadata": {
      "byteLimit": 2048000,
      "rowLimit": 10000
     },
     "inputWidgets": {},
     "nuid": "a9d18a7d-0629-44c0-bd17-cb3d4440b1b3",
     "showTitle": false,
     "title": ""
    }
   },
   "outputs": [],
   "source": [
    "# Define the file path\n",
    "csv_file_path = \"/mnt/businesscase/landingzone/SalesOrderDetail.csv\"\n",
    "\n",
    "# Read the CSV file into a DataFrame\n",
    "df = spark.read.csv(csv_file_path, header=True, inferSchema=True)\n"
   ]
  },
  {
   "cell_type": "code",
   "execution_count": 0,
   "metadata": {
    "application/vnd.databricks.v1+cell": {
     "cellMetadata": {
      "byteLimit": 2048000,
      "rowLimit": 10000
     },
     "inputWidgets": {},
     "nuid": "a1f9b311-0470-4258-b6db-f15735c9a349",
     "showTitle": false,
     "title": ""
    }
   },
   "outputs": [],
   "source": [
    "# List of columns to delete\n",
    "columns_to_delete = [ \"rowguid\",\"UnitPrice\",\"LineTotal\"]\n",
    "\n",
    "# Drop the specified columns from the DataFrame\n",
    "df = df.drop(*columns_to_delete)\n"
   ]
  },
  {
   "cell_type": "code",
   "execution_count": 0,
   "metadata": {
    "application/vnd.databricks.v1+cell": {
     "cellMetadata": {
      "byteLimit": 2048000,
      "rowLimit": 10000
     },
     "inputWidgets": {},
     "nuid": "7b11f06d-08dd-4ce6-a145-fe83d3b2096e",
     "showTitle": false,
     "title": ""
    }
   },
   "outputs": [],
   "source": [
    "from pyspark.sql.functions import col, when\n",
    "\n",
    "# Replace \"NULL\" values with actual null values\n",
    "for column_name in df.columns:\n",
    "    df = df.withColumn(column_name, when(col(column_name) == \"NULL\", None).otherwise(col(column_name)))\n",
    "\n",
    "null_values = {}\n",
    "\n",
    "# Iterate through all columns in the DataFrame\n",
    "for column_name in df.columns:\n",
    "    null_count = df.filter(col(column_name).isNull()).count()\n",
    "\n",
    "    if null_count > 0:\n",
    "        null_values[column_name] = null_count\n",
    "\n",
    "if len(null_values) > 0:\n",
    "    print(f'there are some null values in the dataset: {null_values}')\n"
   ]
  },
  {
   "cell_type": "code",
   "execution_count": 0,
   "metadata": {
    "application/vnd.databricks.v1+cell": {
     "cellMetadata": {
      "byteLimit": 2048000,
      "rowLimit": 10000
     },
     "inputWidgets": {},
     "nuid": "f8871cc8-d9f9-4a84-8b5b-824ce133456d",
     "showTitle": false,
     "title": ""
    }
   },
   "outputs": [],
   "source": [
    "df = df.withColumn(\"ModifiedDate\", col(\"ModifiedDate\").cast(\"date\"))\n"
   ]
  },
  {
   "cell_type": "code",
   "execution_count": 0,
   "metadata": {
    "application/vnd.databricks.v1+cell": {
     "cellMetadata": {
      "byteLimit": 2048000,
      "rowLimit": 10000
     },
     "inputWidgets": {},
     "nuid": "98974218-8b96-4feb-a857-9f6530af3ac6",
     "showTitle": false,
     "title": ""
    }
   },
   "outputs": [],
   "source": [
    "# Define the path to the \"bronze\" folder where you want to save the Parquet file\n",
    "bronze_path = \"/mnt/businesscase/bronze/SalesOrderDetailParquet\"\n",
    "\n",
    "# Save the DataFrame as a Parquet file in the \"bronze\" folder\n",
    "df.write.parquet(bronze_path, mode=\"overwrite\")\n",
    "\n"
   ]
  }
 ],
 "metadata": {
  "application/vnd.databricks.v1+notebook": {
   "dashboards": [],
   "language": "python",
   "notebookMetadata": {
    "pythonIndentUnit": 4
   },
   "notebookName": "salesorderdetail",
   "widgets": {}
  }
 },
 "nbformat": 4,
 "nbformat_minor": 0
}
