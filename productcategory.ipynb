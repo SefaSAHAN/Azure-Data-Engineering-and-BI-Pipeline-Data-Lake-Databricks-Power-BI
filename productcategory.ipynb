{
 "cells": [
  {
   "cell_type": "code",
   "execution_count": 0,
   "metadata": {
    "application/vnd.databricks.v1+cell": {
     "cellMetadata": {
      "byteLimit": 2048000,
      "rowLimit": 10000
     },
     "inputWidgets": {},
     "nuid": "a9d18a7d-0629-44c0-bd17-cb3d4440b1b3",
     "showTitle": false,
     "title": ""
    }
   },
   "outputs": [
    {
     "output_type": "display_data",
     "data": {
      "text/html": [
       "<style scoped>\n",
       "  .table-result-container {\n",
       "    max-height: 300px;\n",
       "    overflow: auto;\n",
       "  }\n",
       "  table, th, td {\n",
       "    border: 1px solid black;\n",
       "    border-collapse: collapse;\n",
       "  }\n",
       "  th, td {\n",
       "    padding: 5px;\n",
       "  }\n",
       "  th {\n",
       "    text-align: left;\n",
       "  }\n",
       "</style><div class='table-result-container'><table class='table-result'><thead style='background-color: white'><tr><th>ProductCategoryID</th><th>ParentProductCategoryID</th><th>Name</th><th>rowguid</th><th>ModifiedDate</th></tr></thead><tbody><tr><td>1</td><td>NULL</td><td>Bikes</td><td>cfbda25c-df71-47a7-b81b-64ee161aa37c</td><td>2002-06-01T00:00:00.000+0000</td></tr><tr><td>2</td><td>NULL</td><td>Components</td><td>c657828d-d808-4aba-91a3-af2ce02300e9</td><td>2002-06-01T00:00:00.000+0000</td></tr><tr><td>3</td><td>NULL</td><td>Clothing</td><td>10a7c342-ca82-48d4-8a38-46a2eb089b74</td><td>2002-06-01T00:00:00.000+0000</td></tr><tr><td>4</td><td>NULL</td><td>Accessories</td><td>2be3be36-d9a2-4eee-b593-ed895d97c2a6</td><td>2002-06-01T00:00:00.000+0000</td></tr><tr><td>5</td><td>1</td><td>Mountain Bikes</td><td>2d364ade-264a-433c-b092-4fcbf3804e01</td><td>2002-06-01T00:00:00.000+0000</td></tr><tr><td>6</td><td>1</td><td>Road Bikes</td><td>000310c0-bcc8-42c4-b0c3-45ae611af06b</td><td>2002-06-01T00:00:00.000+0000</td></tr><tr><td>7</td><td>1</td><td>Touring Bikes</td><td>02c5061d-ecdc-4274-b5f1-e91d76bc3f37</td><td>2002-06-01T00:00:00.000+0000</td></tr><tr><td>8</td><td>2</td><td>Handlebars</td><td>3ef2c725-7135-4c85-9ae6-ae9a3bdd9283</td><td>2002-06-01T00:00:00.000+0000</td></tr><tr><td>9</td><td>2</td><td>Bottom Brackets</td><td>a9e54089-8a1e-4cf5-8646-e3801f685934</td><td>2002-06-01T00:00:00.000+0000</td></tr><tr><td>10</td><td>2</td><td>Brakes</td><td>d43ba4a3-ef0d-426b-90eb-4be4547dd30c</td><td>2002-06-01T00:00:00.000+0000</td></tr><tr><td>11</td><td>2</td><td>Chains</td><td>e93a7231-f16c-4b0f-8c41-c73fdec62da0</td><td>2002-06-01T00:00:00.000+0000</td></tr><tr><td>12</td><td>2</td><td>Cranksets</td><td>4f644521-422b-4f19-974a-e3df6102567e</td><td>2002-06-01T00:00:00.000+0000</td></tr><tr><td>13</td><td>2</td><td>Derailleurs</td><td>1830d70c-aa2a-40c0-a271-5ba86f38f8bf</td><td>2002-06-01T00:00:00.000+0000</td></tr><tr><td>14</td><td>2</td><td>Forks</td><td>b5f9ba42-b69b-4fdd-b2ec-57fb7b42e3cf</td><td>2002-06-01T00:00:00.000+0000</td></tr><tr><td>15</td><td>2</td><td>Headsets</td><td>7c782bbe-5a16-495a-aa50-10afe5a84af2</td><td>2002-06-01T00:00:00.000+0000</td></tr><tr><td>16</td><td>2</td><td>Mountain Frames</td><td>61b21b65-e16a-4be7-9300-4d8e9db861be</td><td>2002-06-01T00:00:00.000+0000</td></tr><tr><td>17</td><td>2</td><td>Pedals</td><td>6d24ac07-7a84-4849-864a-865a14125bc9</td><td>2002-06-01T00:00:00.000+0000</td></tr><tr><td>18</td><td>2</td><td>Road Frames</td><td>5515f857-075b-4f9a-87b7-43b4997077b3</td><td>2002-06-01T00:00:00.000+0000</td></tr><tr><td>19</td><td>2</td><td>Saddles</td><td>049fffa3-9d30-46df-82f7-f20730ec02b3</td><td>2002-06-01T00:00:00.000+0000</td></tr><tr><td>20</td><td>2</td><td>Touring Frames</td><td>d2e3f1a8-56c4-4f36-b29d-5659fc0d2789</td><td>2002-06-01T00:00:00.000+0000</td></tr><tr><td>21</td><td>2</td><td>Wheels</td><td>43521287-4b0b-438e-b80e-d82d9ad7c9f0</td><td>2002-06-01T00:00:00.000+0000</td></tr><tr><td>22</td><td>3</td><td>Bib-Shorts</td><td>67b58d2b-5798-4a90-8c6c-5ddacf057171</td><td>2002-06-01T00:00:00.000+0000</td></tr><tr><td>23</td><td>3</td><td>Caps</td><td>430dd6a8-a755-4b23-bb05-52520107da5f</td><td>2002-06-01T00:00:00.000+0000</td></tr><tr><td>24</td><td>3</td><td>Gloves</td><td>92d5657b-0032-4e49-bad5-41a441a70942</td><td>2002-06-01T00:00:00.000+0000</td></tr><tr><td>25</td><td>3</td><td>Jerseys</td><td>09e91437-ba4f-4b1a-8215-74184fd95db8</td><td>2002-06-01T00:00:00.000+0000</td></tr><tr><td>26</td><td>3</td><td>Shorts</td><td>1a5ba5b3-03c3-457c-b11e-4fa85ede87da</td><td>2002-06-01T00:00:00.000+0000</td></tr><tr><td>27</td><td>3</td><td>Socks</td><td>701019c3-09fe-4949-8386-c6ce686474e5</td><td>2002-06-01T00:00:00.000+0000</td></tr><tr><td>28</td><td>3</td><td>Tights</td><td>5deb3e55-9897-4416-b18a-515e970bc2d1</td><td>2002-06-01T00:00:00.000+0000</td></tr><tr><td>29</td><td>3</td><td>Vests</td><td>9ad7fe93-5ba0-4736-b578-ff80a2071297</td><td>2002-06-01T00:00:00.000+0000</td></tr><tr><td>30</td><td>4</td><td>Bike Racks</td><td>4624b5ce-66d6-496b-9201-c053df3556cc</td><td>2002-06-01T00:00:00.000+0000</td></tr><tr><td>31</td><td>4</td><td>Bike Stands</td><td>43b445c8-b820-424e-a1d5-90d81da0b46f</td><td>2002-06-01T00:00:00.000+0000</td></tr><tr><td>32</td><td>4</td><td>Bottles and Cages</td><td>9b7dff41-9fa3-4776-8def-2c9a48c8b779</td><td>2002-06-01T00:00:00.000+0000</td></tr><tr><td>33</td><td>4</td><td>Cleaners</td><td>9ad3bcf0-244d-4ec4-a6a0-fb701351c6a3</td><td>2002-06-01T00:00:00.000+0000</td></tr><tr><td>34</td><td>4</td><td>Fenders</td><td>1697f8a2-0a08-4883-b7dd-d19117b4e9a7</td><td>2002-06-01T00:00:00.000+0000</td></tr><tr><td>35</td><td>4</td><td>Helmets</td><td>f5e07a33-c9e0-439c-b5f3-9f25fb65becc</td><td>2002-06-01T00:00:00.000+0000</td></tr><tr><td>36</td><td>4</td><td>Hydration Packs</td><td>646a8906-fc87-4267-a443-9c6d791e6693</td><td>2002-06-01T00:00:00.000+0000</td></tr><tr><td>37</td><td>4</td><td>Lights</td><td>954178ba-624f-42db-95f6-ca035f36d130</td><td>2002-06-01T00:00:00.000+0000</td></tr><tr><td>38</td><td>4</td><td>Locks</td><td>19646983-3fa0-4773-9a0c-f34c49df9bc8</td><td>2002-06-01T00:00:00.000+0000</td></tr><tr><td>39</td><td>4</td><td>Panniers</td><td>3002a5d5-fec3-464b-bef3-e0f81d35f431</td><td>2002-06-01T00:00:00.000+0000</td></tr><tr><td>40</td><td>4</td><td>Pumps</td><td>fe4d46f2-c87c-48c5-a4a1-3f55712d80b1</td><td>2002-06-01T00:00:00.000+0000</td></tr><tr><td>41</td><td>4</td><td>Tires and Tubes</td><td>3c17c9ae-e906-48b4-bdd3-60e28d47dcdf</td><td>2002-06-01T00:00:00.000+0000</td></tr></tbody></table></div>"
      ]
     },
     "metadata": {
      "application/vnd.databricks.v1+output": {
       "addedWidgets": {},
       "aggData": [],
       "aggError": "",
       "aggOverflow": false,
       "aggSchema": [],
       "aggSeriesLimitReached": false,
       "aggType": "",
       "arguments": {},
       "columnCustomDisplayInfos": {},
       "data": [
        [
         1,
         "NULL",
         "Bikes",
         "cfbda25c-df71-47a7-b81b-64ee161aa37c",
         "2002-06-01T00:00:00.000+0000"
        ],
        [
         2,
         "NULL",
         "Components",
         "c657828d-d808-4aba-91a3-af2ce02300e9",
         "2002-06-01T00:00:00.000+0000"
        ],
        [
         3,
         "NULL",
         "Clothing",
         "10a7c342-ca82-48d4-8a38-46a2eb089b74",
         "2002-06-01T00:00:00.000+0000"
        ],
        [
         4,
         "NULL",
         "Accessories",
         "2be3be36-d9a2-4eee-b593-ed895d97c2a6",
         "2002-06-01T00:00:00.000+0000"
        ],
        [
         5,
         "1",
         "Mountain Bikes",
         "2d364ade-264a-433c-b092-4fcbf3804e01",
         "2002-06-01T00:00:00.000+0000"
        ],
        [
         6,
         "1",
         "Road Bikes",
         "000310c0-bcc8-42c4-b0c3-45ae611af06b",
         "2002-06-01T00:00:00.000+0000"
        ],
        [
         7,
         "1",
         "Touring Bikes",
         "02c5061d-ecdc-4274-b5f1-e91d76bc3f37",
         "2002-06-01T00:00:00.000+0000"
        ],
        [
         8,
         "2",
         "Handlebars",
         "3ef2c725-7135-4c85-9ae6-ae9a3bdd9283",
         "2002-06-01T00:00:00.000+0000"
        ],
        [
         9,
         "2",
         "Bottom Brackets",
         "a9e54089-8a1e-4cf5-8646-e3801f685934",
         "2002-06-01T00:00:00.000+0000"
        ],
        [
         10,
         "2",
         "Brakes",
         "d43ba4a3-ef0d-426b-90eb-4be4547dd30c",
         "2002-06-01T00:00:00.000+0000"
        ],
        [
         11,
         "2",
         "Chains",
         "e93a7231-f16c-4b0f-8c41-c73fdec62da0",
         "2002-06-01T00:00:00.000+0000"
        ],
        [
         12,
         "2",
         "Cranksets",
         "4f644521-422b-4f19-974a-e3df6102567e",
         "2002-06-01T00:00:00.000+0000"
        ],
        [
         13,
         "2",
         "Derailleurs",
         "1830d70c-aa2a-40c0-a271-5ba86f38f8bf",
         "2002-06-01T00:00:00.000+0000"
        ],
        [
         14,
         "2",
         "Forks",
         "b5f9ba42-b69b-4fdd-b2ec-57fb7b42e3cf",
         "2002-06-01T00:00:00.000+0000"
        ],
        [
         15,
         "2",
         "Headsets",
         "7c782bbe-5a16-495a-aa50-10afe5a84af2",
         "2002-06-01T00:00:00.000+0000"
        ],
        [
         16,
         "2",
         "Mountain Frames",
         "61b21b65-e16a-4be7-9300-4d8e9db861be",
         "2002-06-01T00:00:00.000+0000"
        ],
        [
         17,
         "2",
         "Pedals",
         "6d24ac07-7a84-4849-864a-865a14125bc9",
         "2002-06-01T00:00:00.000+0000"
        ],
        [
         18,
         "2",
         "Road Frames",
         "5515f857-075b-4f9a-87b7-43b4997077b3",
         "2002-06-01T00:00:00.000+0000"
        ],
        [
         19,
         "2",
         "Saddles",
         "049fffa3-9d30-46df-82f7-f20730ec02b3",
         "2002-06-01T00:00:00.000+0000"
        ],
        [
         20,
         "2",
         "Touring Frames",
         "d2e3f1a8-56c4-4f36-b29d-5659fc0d2789",
         "2002-06-01T00:00:00.000+0000"
        ],
        [
         21,
         "2",
         "Wheels",
         "43521287-4b0b-438e-b80e-d82d9ad7c9f0",
         "2002-06-01T00:00:00.000+0000"
        ],
        [
         22,
         "3",
         "Bib-Shorts",
         "67b58d2b-5798-4a90-8c6c-5ddacf057171",
         "2002-06-01T00:00:00.000+0000"
        ],
        [
         23,
         "3",
         "Caps",
         "430dd6a8-a755-4b23-bb05-52520107da5f",
         "2002-06-01T00:00:00.000+0000"
        ],
        [
         24,
         "3",
         "Gloves",
         "92d5657b-0032-4e49-bad5-41a441a70942",
         "2002-06-01T00:00:00.000+0000"
        ],
        [
         25,
         "3",
         "Jerseys",
         "09e91437-ba4f-4b1a-8215-74184fd95db8",
         "2002-06-01T00:00:00.000+0000"
        ],
        [
         26,
         "3",
         "Shorts",
         "1a5ba5b3-03c3-457c-b11e-4fa85ede87da",
         "2002-06-01T00:00:00.000+0000"
        ],
        [
         27,
         "3",
         "Socks",
         "701019c3-09fe-4949-8386-c6ce686474e5",
         "2002-06-01T00:00:00.000+0000"
        ],
        [
         28,
         "3",
         "Tights",
         "5deb3e55-9897-4416-b18a-515e970bc2d1",
         "2002-06-01T00:00:00.000+0000"
        ],
        [
         29,
         "3",
         "Vests",
         "9ad7fe93-5ba0-4736-b578-ff80a2071297",
         "2002-06-01T00:00:00.000+0000"
        ],
        [
         30,
         "4",
         "Bike Racks",
         "4624b5ce-66d6-496b-9201-c053df3556cc",
         "2002-06-01T00:00:00.000+0000"
        ],
        [
         31,
         "4",
         "Bike Stands",
         "43b445c8-b820-424e-a1d5-90d81da0b46f",
         "2002-06-01T00:00:00.000+0000"
        ],
        [
         32,
         "4",
         "Bottles and Cages",
         "9b7dff41-9fa3-4776-8def-2c9a48c8b779",
         "2002-06-01T00:00:00.000+0000"
        ],
        [
         33,
         "4",
         "Cleaners",
         "9ad3bcf0-244d-4ec4-a6a0-fb701351c6a3",
         "2002-06-01T00:00:00.000+0000"
        ],
        [
         34,
         "4",
         "Fenders",
         "1697f8a2-0a08-4883-b7dd-d19117b4e9a7",
         "2002-06-01T00:00:00.000+0000"
        ],
        [
         35,
         "4",
         "Helmets",
         "f5e07a33-c9e0-439c-b5f3-9f25fb65becc",
         "2002-06-01T00:00:00.000+0000"
        ],
        [
         36,
         "4",
         "Hydration Packs",
         "646a8906-fc87-4267-a443-9c6d791e6693",
         "2002-06-01T00:00:00.000+0000"
        ],
        [
         37,
         "4",
         "Lights",
         "954178ba-624f-42db-95f6-ca035f36d130",
         "2002-06-01T00:00:00.000+0000"
        ],
        [
         38,
         "4",
         "Locks",
         "19646983-3fa0-4773-9a0c-f34c49df9bc8",
         "2002-06-01T00:00:00.000+0000"
        ],
        [
         39,
         "4",
         "Panniers",
         "3002a5d5-fec3-464b-bef3-e0f81d35f431",
         "2002-06-01T00:00:00.000+0000"
        ],
        [
         40,
         "4",
         "Pumps",
         "fe4d46f2-c87c-48c5-a4a1-3f55712d80b1",
         "2002-06-01T00:00:00.000+0000"
        ],
        [
         41,
         "4",
         "Tires and Tubes",
         "3c17c9ae-e906-48b4-bdd3-60e28d47dcdf",
         "2002-06-01T00:00:00.000+0000"
        ]
       ],
       "datasetInfos": [],
       "dbfsResultPath": null,
       "isJsonSchema": true,
       "metadata": {},
       "overflow": false,
       "plotOptions": {
        "customPlotOptions": {},
        "displayType": "table",
        "pivotAggregation": null,
        "pivotColumns": null,
        "xColumns": null,
        "yColumns": null
       },
       "removedWidgets": [],
       "schema": [
        {
         "metadata": "{}",
         "name": "ProductCategoryID",
         "type": "\"integer\""
        },
        {
         "metadata": "{}",
         "name": "ParentProductCategoryID",
         "type": "\"string\""
        },
        {
         "metadata": "{}",
         "name": "Name",
         "type": "\"string\""
        },
        {
         "metadata": "{}",
         "name": "rowguid",
         "type": "\"string\""
        },
        {
         "metadata": "{}",
         "name": "ModifiedDate",
         "type": "\"timestamp\""
        }
       ],
       "type": "table"
      }
     },
     "output_type": "display_data"
    }
   ],
   "source": [
    "# Define the file path\n",
    "csv_file_path = \"/mnt/businesscase/landingzone/ProductCategory.csv\"\n",
    "\n",
    "# Read the CSV file into a DataFrame\n",
    "df = spark.read.csv(csv_file_path, header=True, inferSchema=True)\n",
    "\n"
   ]
  },
  {
   "cell_type": "code",
   "execution_count": 0,
   "metadata": {
    "application/vnd.databricks.v1+cell": {
     "cellMetadata": {
      "byteLimit": 2048000,
      "rowLimit": 10000
     },
     "inputWidgets": {},
     "nuid": "27c3dfce-7e14-467b-96e5-2d731f634808",
     "showTitle": false,
     "title": ""
    }
   },
   "outputs": [],
   "source": [
    "# Keep the first 4 rows in the DataFrame\n",
    "df = df.limit(4)\n",
    "\n"
   ]
  },
  {
   "cell_type": "code",
   "execution_count": 0,
   "metadata": {
    "application/vnd.databricks.v1+cell": {
     "cellMetadata": {
      "byteLimit": 2048000,
      "rowLimit": 10000
     },
     "inputWidgets": {},
     "nuid": "a1f9b311-0470-4258-b6db-f15735c9a349",
     "showTitle": false,
     "title": ""
    }
   },
   "outputs": [],
   "source": [
    "# List of columns to delete\n",
    "columns_to_delete = [\"ParentProductCategoryID\", \"ModifiedDate\", \"rowguid\"]\n",
    "\n",
    "# Drop the specified columns from the DataFrame\n",
    "df = df.drop(*columns_to_delete)\n",
    "\n"
   ]
  },
  {
   "cell_type": "code",
   "execution_count": 0,
   "metadata": {
    "application/vnd.databricks.v1+cell": {
     "cellMetadata": {
      "byteLimit": 2048000,
      "rowLimit": 10000
     },
     "inputWidgets": {},
     "nuid": "7b11f06d-08dd-4ce6-a145-fe83d3b2096e",
     "showTitle": false,
     "title": ""
    }
   },
   "outputs": [],
   "source": [
    "from pyspark.sql.functions import col, when\n",
    "\n",
    "# Replace \"NULL\" values with actual null values\n",
    "for column_name in df.columns:\n",
    "    df = df.withColumn(column_name, when(col(column_name) == \"NULL\", None).otherwise(col(column_name)))\n",
    "\n",
    "null_values = {}\n",
    "\n",
    "# Iterate through all columns in the DataFrame\n",
    "for column_name in df.columns:\n",
    "    null_count = df.filter(col(column_name).isNull()).count()\n",
    "\n",
    "    if null_count > 0:\n",
    "        null_values[column_name] = null_count\n",
    "\n",
    "if len(null_values) > 0:\n",
    "    print(f'there are some null values in the dataset: {null_values}')\n"
   ]
  },
  {
   "cell_type": "code",
   "execution_count": 0,
   "metadata": {
    "application/vnd.databricks.v1+cell": {
     "cellMetadata": {
      "byteLimit": 2048000,
      "rowLimit": 10000
     },
     "inputWidgets": {},
     "nuid": "98974218-8b96-4feb-a857-9f6530af3ac6",
     "showTitle": false,
     "title": ""
    }
   },
   "outputs": [],
   "source": [
    "# Define the path to the \"bronze\" folder where you want to save the Parquet file\n",
    "bronze_path = \"/mnt/businesscase/bronze/ProductCategoryParquet\"\n",
    "\n",
    "# Save the DataFrame as a Parquet file in the \"bronze\" folder\n",
    "df.write.parquet(bronze_path, mode=\"overwrite\")\n"
   ]
  }
 ],
 "metadata": {
  "application/vnd.databricks.v1+notebook": {
   "dashboards": [],
   "language": "python",
   "notebookMetadata": {
    "pythonIndentUnit": 4
   },
   "notebookName": "productcategory",
   "widgets": {}
  }
 },
 "nbformat": 4,
 "nbformat_minor": 0
}
