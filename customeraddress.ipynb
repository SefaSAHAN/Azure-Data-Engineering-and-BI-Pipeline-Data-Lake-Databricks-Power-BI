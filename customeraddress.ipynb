{
 "cells": [
  {
   "cell_type": "code",
   "execution_count": 0,
   "metadata": {
    "application/vnd.databricks.v1+cell": {
     "cellMetadata": {
      "byteLimit": 2048000,
      "rowLimit": 10000
     },
     "inputWidgets": {},
     "nuid": "19ea1a4d-9f80-49b3-8864-80fc3032cb7d",
     "showTitle": false,
     "title": ""
    }
   },
   "outputs": [],
   "source": [
    "# Define the file path\n",
    "csv_file_path = \"/mnt/businesscase/landingzone/CustomerAddress.csv\"\n",
    "\n",
    "# Read the CSV file into a DataFrame\n",
    "df = spark.read.csv(csv_file_path, header=True, inferSchema=True)"
   ]
  },
  {
   "cell_type": "code",
   "execution_count": 0,
   "metadata": {
    "application/vnd.databricks.v1+cell": {
     "cellMetadata": {
      "byteLimit": 2048000,
      "rowLimit": 10000
     },
     "inputWidgets": {},
     "nuid": "379c74f3-0f8f-4e39-81bc-d02b0d912fbf",
     "showTitle": false,
     "title": ""
    }
   },
   "outputs": [],
   "source": [
    "# List of columns to delete\n",
    "columns_to_delete = [\"AddressType\",\"rowguid\",'ModifiedDate']\n",
    "\n",
    "# Drop the specified columns from the DataFrame\n",
    "df = df.drop(*columns_to_delete)"
   ]
  },
  {
   "cell_type": "code",
   "execution_count": 0,
   "metadata": {
    "application/vnd.databricks.v1+cell": {
     "cellMetadata": {
      "byteLimit": 2048000,
      "rowLimit": 10000
     },
     "inputWidgets": {},
     "nuid": "1f530f4a-33cc-4030-a0bc-0808931e6cba",
     "showTitle": false,
     "title": ""
    }
   },
   "outputs": [],
   "source": [
    "from pyspark.sql.functions import col, when\n",
    "\n",
    "# Replace \"NULL\" values with actual null values\n",
    "for column_name in df.columns:\n",
    "    df = df.withColumn(column_name, when(col(column_name) == \"NULL\", None).otherwise(col(column_name)))\n",
    "\n",
    "null_values = {}\n",
    "\n",
    "# Iterate through all columns in the DataFrame\n",
    "for column_name in df.columns:\n",
    "    null_count = df.filter(col(column_name).isNull()).count()\n",
    "\n",
    "    if null_count > 0:\n",
    "        null_values[column_name] = null_count\n",
    "\n",
    "if len(null_values) > 0:\n",
    "    print(f'there are some null values in the dataset: {null_values}')\n"
   ]
  },
  {
   "cell_type": "code",
   "execution_count": 0,
   "metadata": {
    "application/vnd.databricks.v1+cell": {
     "cellMetadata": {
      "byteLimit": 2048000,
      "rowLimit": 10000
     },
     "inputWidgets": {},
     "nuid": "f17eb327-3bb0-415b-97ac-461c685404a1",
     "showTitle": false,
     "title": ""
    }
   },
   "outputs": [],
   "source": [
    "# Define the path to the \"bronze\" folder where you want to save the Parquet file\n",
    "bronze_path = \"/mnt/businesscase/bronze/CustomerAddressParquet\"\n",
    "\n",
    "# Save the DataFrame as a Parquet file in the \"bronze\" folder\n",
    "df.write.parquet(bronze_path, mode=\"overwrite\")\n",
    "\n",
    "\n"
   ]
  }
 ],
 "metadata": {
  "application/vnd.databricks.v1+notebook": {
   "dashboards": [],
   "language": "python",
   "notebookMetadata": {
    "pythonIndentUnit": 4
   },
   "notebookName": "customeraddress",
   "widgets": {}
  }
 },
 "nbformat": 4,
 "nbformat_minor": 0
}
